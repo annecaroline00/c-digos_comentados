{
  "nbformat": 4,
  "nbformat_minor": 0,
  "metadata": {
    "colab": {
      "name": "codigos_def_comentados.py",
      "provenance": [],
      "collapsed_sections": [],
      "authorship_tag": "ABX9TyPm2pLWgYcxSeORyeb6uaJd",
      "include_colab_link": true
    },
    "kernelspec": {
      "name": "python3",
      "display_name": "Python 3"
    },
    "language_info": {
      "name": "python"
    }
  },
  "cells": [
    {
      "cell_type": "markdown",
      "metadata": {
        "id": "view-in-github",
        "colab_type": "text"
      },
      "source": [
        "<a href=\"https://colab.research.google.com/github/annecaroline00/IFPI/blob/c%C3%B3digos-comentados/codigos_def_comentados_py.ipynb\" target=\"_parent\"><img src=\"https://colab.research.google.com/assets/colab-badge.svg\" alt=\"Open In Colab\"/></a>"
      ]
    },
    {
      "cell_type": "code",
      "execution_count": 2,
      "metadata": {
        "colab": {
          "base_uri": "https://localhost:8080/"
        },
        "id": "86F7iiBf3hQW",
        "outputId": "a249e1e0-8728-422e-e9c9-eb342dfccbbe"
      },
      "outputs": [
        {
          "output_type": "stream",
          "name": "stdout",
          "text": [
            "5 é impar? True\n",
            "2 é par? True\n",
            "3 é par? False\n"
          ]
        }
      ],
      "source": [
        "def eh_par(numero):       #declaração da função que vai retornar se o número é par ou não\n",
        "  return numero % 2 == 0    #retorna o resto da divisão de um numero por 2 for igual a zero, ele vai ser par\n",
        "\n",
        "print('5 é impar?', not eh_par(5))    \n",
        "print('2 é par?', eh_par(2))\n",
        "print('3 é par?', eh_par(3))"
      ]
    },
    {
      "cell_type": "code",
      "source": [
        " #declara a função que retorna a area de um quadrado com base no lado\n",
        "def area_quadrado(lado): \n",
        "  return lado*lado #retorna a area do quadrado\n",
        "\n",
        "#declara a função que retorna o perimetro de um quadrado em relação ao lado\n",
        "def perimetro_quadrado(lado):\n",
        "  return lado*4 #retorna o perimetro de um quadrado\n",
        "\n",
        "#exibe na tela a mensagem \"lado do quadrado\" para após essa mensagem ser inserido a entrada do valor_lado\n",
        "valor_lado = float(input('Lado do quadrado: '))\n",
        "\n",
        "#imprime na tela a mensagem \"área do quadrado\" e o valor dessa área\n",
        "print('Área do quadrado: ', area_quadrado(valor_lado))\n",
        "\n",
        "#imprime na tela a mensagem \"perímetro do quadrado\" e o perímetro desse quadrado\n",
        "print('Perímetro do quadrado: ', perimetro_quadrado(valor_lado))"
      ],
      "metadata": {
        "colab": {
          "base_uri": "https://localhost:8080/"
        },
        "id": "SBRYYsVe33pH",
        "outputId": "bbecfc1c-a64d-4ce5-a7c0-5da2856a6228"
      },
      "execution_count": 6,
      "outputs": [
        {
          "output_type": "stream",
          "name": "stdout",
          "text": [
            "Lado do quadrado: 5\n",
            "Área do quadrado:  25.0\n",
            "Perímetro do quadrado:  20.0\n"
          ]
        }
      ]
    },
    {
      "cell_type": "code",
      "source": [
        "#declara a função que calcula o valor percentual com base no valor e na porcentagem\n",
        "def percentual(valor, porcentagem):  \n",
        "  return valor*(porcentagem/100)  #retorna o valor multiplicado pelo desconto\n",
        "\n",
        "#exibe na tela a mensagem \"preço:\" e aguarda uma entrada float para ser guardada em pr\n",
        "pr = float(input(\"preço: \"))\n",
        "\n",
        "#exibe na tela a mensagem \"percentual:\" e espera uma entrada float para ser guardada em vr_p\n",
        "vr_p = float(input(\"percentual:\"))\n",
        "\n",
        "#calcula pr_acres em função do valor de pr somado ao resultado da função percentual \n",
        "pr_acresc = pr + percentual(pr, vr_p)\n",
        "\n",
        "#calcula pr_desc em função do valor de pr subtraido do resultado da função percentual \n",
        "pr_desc = pr - percentual(pr, vr_p)\n",
        "\n",
        "#exibe a mensagem com o valor original com o valor de acréscimo e com a soma dos dois\n",
        "print(f'R${pr} com acréscimo de {vr_p}% fica por R${pr_acresc}')\n",
        "\n",
        "#exibe a mensagem com o valor original com o valor de desconto e com a soma dos dois\n",
        "print(f'R${pr} com desconto de {vr_p}% fica por R${pr_desc}')"
      ],
      "metadata": {
        "colab": {
          "base_uri": "https://localhost:8080/"
        },
        "id": "zadbVpNT6yNd",
        "outputId": "318b542e-0780-4b3e-d441-6943c29de46a"
      },
      "execution_count": 9,
      "outputs": [
        {
          "output_type": "stream",
          "name": "stdout",
          "text": [
            "preço: 100\n",
            "percentual:10\n",
            "R$100.0 com acréscimo de 10.0% fica por R$110.0\n",
            "R$100.0 com desconto de 10.0% fica por R$90.0\n"
          ]
        }
      ]
    },
    {
      "cell_type": "code",
      "source": [
        "#declara a função que irá transformar de minutos para horas em função do minutos informados\n",
        "def minutos_para_horas(qtd_minutos):\n",
        "\n",
        "#coloca em horas a divisão inteira por 60\n",
        "  horas = qtd_minutos//60\n",
        "\n",
        "#coloca o resto da divisão inteira por 60\n",
        "  minutos = qtd_minutos%60\n",
        "\n",
        "#retorna o resultado formatado em hH e mMin\n",
        "  return f'{horas}h{minutos}min'\n",
        "\n",
        "#exibe a mensagem \"quantidade de minutos:\", e espera uma entrada inteira \n",
        "minutos = int(input(\"quantidade de minutos: \"))\n",
        "\n",
        "#coloca em horas a mensagem retornada pela função minutos_para_horas com base no que tem em minutos\n",
        "horas = minutos_para_horas(minutos)\n",
        "\n",
        "#exibe na tela a transformação de minutos para horas\n",
        "print(f'{minutos} minutos são equivalentes a {horas}')\n",
        "\n",
        "\n"
      ],
      "metadata": {
        "colab": {
          "base_uri": "https://localhost:8080/"
        },
        "id": "6DPVfz_5L8ff",
        "outputId": "e1769c07-821f-4fea-9e40-c62fbbf5c6f8"
      },
      "execution_count": 16,
      "outputs": [
        {
          "output_type": "stream",
          "name": "stdout",
          "text": [
            "quantidade de minutos: 3895\n",
            "3895 minutos são equivalentes a 64h55min\n"
          ]
        }
      ]
    },
    {
      "cell_type": "code",
      "source": [
        "#declara a função que troca dois valores \n",
        "def trocar(x1, x2):\n",
        "\n",
        "#retorna os valores com as posições trocadas\n",
        "  return x2, x1\n",
        "\n",
        "#exibe na tela a mensagem \"primeiro número:\" e espera um entrada de valores inteiros\n",
        "n1 = int(input(\"primeiro número: \"))\n",
        "\n",
        "#exibe na tela uma mensagem \"segundo número:\" e espera uma entrada de valores inteiros\n",
        "n2 = int(input(\"segundo número:  \"))\n",
        "\n",
        "#troca os valores de n1 e n2 chamando a função trocar\n",
        "n1, n2 = trocar(n1,n2)\n",
        "\n",
        "#exibe uma mensagem com valores do primeiro e segundo números \n",
        "print(f'Primeiro {n1}; Segundo {n2}.')  "
      ],
      "metadata": {
        "colab": {
          "base_uri": "https://localhost:8080/"
        },
        "id": "Mvr7OkY-OCmJ",
        "outputId": "4423e640-901e-4413-f21b-5bcb9a0ebab1"
      },
      "execution_count": 17,
      "outputs": [
        {
          "output_type": "stream",
          "name": "stdout",
          "text": [
            "primeiro número: 5\n",
            "segundo número:  7\n",
            "Primeiro7; Segundo5.\n"
          ]
        }
      ]
    },
    {
      "cell_type": "code",
      "source": [
        "#declara a função inverter em relação em a numero\n",
        "def inverter (numero):\n",
        "\n",
        "#recebe em u o resto de uma divisão inteira de um número por 10\n",
        "  u = numero%10\n",
        "\n",
        "#recebe em numero a divisão inteira de um numero por 10\n",
        "  numero = numero//10\n",
        "\n",
        "#recebe em d o resto de uma divisão inteira por 10\n",
        "  d = numero%10\n",
        "\n",
        "#recebe em numero a divisão inteira de um numero por 10\n",
        "  numero = numero//10\n",
        "\n",
        "#recebe em c o resto de uma divisão inteira por 10\n",
        "  c = numero %10\n",
        "\n",
        "#recebe em numero a divisão inteira de um numero por 10\n",
        "  numero = numero//10\n",
        "\n",
        "#recebe em m o resto de uma divisão inteira por 10\n",
        "  m = numero%10\n",
        "\n",
        "#recebe em numero_invertido o resultado de u*1000 + d*1000+c*10+m, trocando as classes numéricas \n",
        "  numero_invertido = (u*1000)+(d*100)+(c*10)+ m \n",
        "\n",
        "#retorna o valor de numero_invertido\n",
        "  return numero_invertido\n",
        "\n",
        "\n",
        "#exibe na tela a mensagem \"digite um número entre 1000 e 9999:\" e espera uma entrada de valor  inteiro\n",
        "n = int(input(\"digite um número invertido entre 1000 e 9999: \"))\n",
        "\n",
        "#mostra como é o valor escolhido invertido \n",
        "print(f'o inverso de {n} é {inverter(n)}')"
      ],
      "metadata": {
        "colab": {
          "base_uri": "https://localhost:8080/"
        },
        "id": "WNizH822Pq7u",
        "outputId": "4da2e5ea-c551-4e39-f081-c2c9b6cd1ee2"
      },
      "execution_count": 18,
      "outputs": [
        {
          "output_type": "stream",
          "name": "stdout",
          "text": [
            "digite um número invertido entre 1000 e 9999: 5641\n",
            "o inverso de 5641 é 1465\n"
          ]
        }
      ]
    },
    {
      "cell_type": "code",
      "source": [
        ""
      ],
      "metadata": {
        "id": "deOspfN-RdsN"
      },
      "execution_count": null,
      "outputs": []
    }
  ]
}